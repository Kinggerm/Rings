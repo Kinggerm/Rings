{
 "cells": [
  {
   "cell_type": "markdown",
   "metadata": {},
   "source": [
    "### Current solution for organelle metagenomics\n",
    "\n",
    "Let's download five animal datasets and mix them by:"
   ]
  },
  {
   "cell_type": "code",
   "execution_count": 1,
   "metadata": {},
   "outputs": [],
   "source": [
    "%%bash\n",
    "# fastq-dump --origfmt --split-files -X 1000000 SRR5201683 SRR5132384 DRR014695 SRR1581065 SRR1041081\n",
    "# cat *_1.fastq | gzip > mixture_1.fq.gz\n",
    "# cat *_2.fastq | gzip > mixture_2.fq.gz"
   ]
  },
  {
   "cell_type": "markdown",
   "metadata": {},
   "source": [
    "meanwhile, install the test metagenomic version of GetOrganelle (1.7.1meta) and initialize the animal_mt database:"
   ]
  },
  {
   "cell_type": "code",
   "execution_count": null,
   "metadata": {},
   "outputs": [],
   "source": [
    "%%bash\n",
    "conda install -c biojj GetOrganelle=1.7.1meta\n",
    "get_organelle_config.py -a animal_mt"
   ]
  },
  {
   "cell_type": "markdown",
   "metadata": {},
   "source": [
    "conduct the assembly by:"
   ]
  },
  {
   "cell_type": "code",
   "execution_count": null,
   "metadata": {},
   "outputs": [],
   "source": [
    "get_organelle_from_reads.py -1 mixture_1.fq.gz -2 mixture_2.fq.gz -F animal_mt -o mixture-meta-mitogenomes -R 20 --meta"
   ]
  }
 ],
 "metadata": {
  "kernelspec": {
   "display_name": "Python 3",
   "language": "python",
   "name": "python3"
  },
  "language_info": {
   "codemirror_mode": {
    "name": "ipython",
    "version": 3
   },
   "file_extension": ".py",
   "mimetype": "text/x-python",
   "name": "python",
   "nbconvert_exporter": "python",
   "pygments_lexer": "ipython3",
   "version": "3.7.3"
  }
 },
 "nbformat": 4,
 "nbformat_minor": 4
}
