{
 "cells": [
  {
   "cell_type": "markdown",
   "metadata": {
    "collapsed": true,
    "pycharm": {
     "name": "#%% md\n"
    }
   },
   "source": [
    "# Example 1\n",
    "\n",
    "To take a glimpse of how GetOrganelle works and what the output files look like, in this part, we use GetOrganelle to assemble the _Arabidopsis thaliana_ chloroplast genome from [a simulated mini-dataset](https://github.com/Kinggerm/GetOrganelleGallery/tree/master/Test/reads).\n",
    "\n",
    " Computational Resource | Requirements\n",
    "---- | ----\n",
    " System | Linux/MacOS\n",
    " Memory | ~600 MB\n",
    " CPU time | ~60 sec\n"
   ]
  },
  {
   "cell_type": "markdown",
   "metadata": {
    "pycharm": {
     "name": "#%%\n"
    }
   },
   "source": [
    "### Downloading reads\n",
    "\n",
    "Let's download the reads using `wget`:"
   ]
  },
  {
   "cell_type": "code",
   "execution_count": 5,
   "metadata": {
    "scrolled": false
   },
   "outputs": [
    {
     "name": "stderr",
     "output_type": "stream",
     "text": [
      "  % Total    % Received % Xferd  Average Speed   Time    Time     Time  Current\n",
      "                                 Dload  Upload   Total   Spent    Left  Speed\n",
      "\r",
      "  0     0    0     0    0     0      0      0 --:--:-- --:--:-- --:--:--     0\r",
      "  0     0    0     0    0     0      0      0 --:--:-- --:--:-- --:--:--     0\r",
      "  0     0    0     0    0     0      0      0 --:--:--  0:00:01 --:--:--     0\r",
      "100   176    0   176    0     0    129      0 --:--:--  0:00:01 --:--:--   129\n",
      "\r",
      "  0 8590k    0     0    0     0      0      0 --:--:--  0:00:02 --:--:--     0\r",
      "  2 8590k    2  223k    0     0  65392      0  0:02:14  0:00:03  0:02:11  184k\r",
      "  4 8590k    4  403k    0     0  88685      0  0:01:39  0:00:04  0:01:35  170k\r",
      "  6 8590k    6  565k    0     0   106k      0  0:01:20  0:00:05  0:01:15  187k\r",
      " 10 8590k   10  860k    0     0   136k      0  0:01:03  0:00:06  0:00:57  214k\r",
      " 12 8590k   12 1068k    0     0   146k      0  0:00:58  0:00:07  0:00:51  213k\r",
      " 14 8590k   14 1244k    0     0   148k      0  0:00:57  0:00:08  0:00:49  210k\r",
      " 16 8590k   16 1452k    0     0   152k      0  0:00:56  0:00:09  0:00:47  214k\r",
      " 18 8590k   18 1628k    0     0   158k      0  0:00:54  0:00:10  0:00:44  213k\r",
      " 21 8590k   21 1820k    0     0   160k      0  0:00:53  0:00:11  0:00:42  189k\r",
      " 23 8590k   23 1996k    0     0   162k      0  0:00:52  0:00:12  0:00:40  186k\r",
      " 26 8590k   26 2252k    0     0   169k      0  0:00:50  0:00:13  0:00:37  204k\r",
      " 28 8590k   28 2476k    0     0   173k      0  0:00:49  0:00:14  0:00:35  217k\r",
      " 31 8590k   31 2716k    0     0   175k      0  0:00:48  0:00:15  0:00:33  209k\r",
      " 33 8590k   33 2892k    0     0   177k      0  0:00:48  0:00:16  0:00:32  219k\r",
      " 35 8590k   35 3068k    0     0   177k      0  0:00:48  0:00:17  0:00:31  214k\r",
      " 39 8590k   39 3356k    0     0   182k      0  0:00:46  0:00:18  0:00:28  217k\r",
      " 41 8590k   41 3596k    0     0   185k      0  0:00:46  0:00:19  0:00:27  217k\r",
      " 44 8590k   44 3852k    0     0   189k      0  0:00:45  0:00:20  0:00:25  234k\r",
      " 48 8590k   48 4140k    0     0   192k      0  0:00:44  0:00:21  0:00:23  238k\r",
      " 50 8590k   50 4348k    0     0   194k      0  0:00:44  0:00:22  0:00:22  249k\r",
      " 53 8590k   53 4556k    0     0   195k      0  0:00:43  0:00:23  0:00:20  243k\r",
      " 55 8590k   55 4796k    0     0   197k      0  0:00:43  0:00:24  0:00:19  243k\r",
      " 59 8590k   59 5116k    0     0   201k      0  0:00:42  0:00:25  0:00:17  251k\r",
      " 62 8590k   62 5388k    0     0   204k      0  0:00:41  0:00:26  0:00:15  257k\r",
      " 66 8590k   66 5692k    0     0   207k      0  0:00:41  0:00:27  0:00:14  265k\r",
      " 67 8590k   67 5820k    0     0   205k      0  0:00:41  0:00:28  0:00:13  250k\r",
      " 71 8590k   71 6108k    0     0   207k      0  0:00:41  0:00:29  0:00:12  258k\r",
      " 73 8590k   73 6284k    0     0   207k      0  0:00:41  0:00:30  0:00:11  234k\r",
      " 76 8590k   76 6588k    0     0   210k      0  0:00:40  0:00:31  0:00:09  243k\r",
      " 78 8590k   78 6748k    0     0   209k      0  0:00:41  0:00:32  0:00:09  219k\r",
      " 80 8590k   80 6908k    0     0   207k      0  0:00:41  0:00:33  0:00:08  217k\r",
      " 83 8590k   83 7196k    0     0   210k      0  0:00:40  0:00:34  0:00:06  224k\r",
      " 85 8590k   85 7372k    0     0   208k      0  0:00:41  0:00:35  0:00:06  212k\r",
      " 88 8590k   88 7612k    0     0   209k      0  0:00:40  0:00:36  0:00:04  202k\r",
      " 91 8590k   91 7852k    0     0   209k      0  0:00:40  0:00:37  0:00:03  213k\r",
      " 94 8590k   94 8076k    0     0   209k      0  0:00:41  0:00:38  0:00:03  222k\r",
      " 96 8590k   96 8300k    0     0   211k      0  0:00:40  0:00:39  0:00:01  220k\r",
      " 99 8590k   99 8540k    0     0   212k      0  0:00:40  0:00:40 --:--:--  243k\r",
      "100 8590k  100 8590k    0     0   211k      0  0:00:40  0:00:40 --:--:--  231k\n",
      "  % Total    % Received % Xferd  Average Speed   Time    Time     Time  Current\n",
      "                                 Dload  Upload   Total   Spent    Left  Speed\n",
      "\r",
      "  0     0    0     0    0     0      0      0 --:--:-- --:--:-- --:--:--     0\r",
      "  0     0    0     0    0     0      0      0 --:--:--  0:00:01 --:--:--     0\r",
      "  0     0    0     0    0     0      0      0 --:--:--  0:00:02 --:--:--     0\r",
      "  0     0    0     0    0     0      0      0 --:--:--  0:00:02 --:--:--     0\r",
      "100   176  100   176    0     0     63      0  0:00:02  0:00:02 --:--:--    63\n",
      "\r",
      "  0     0    0     0    0     0      0      0 --:--:--  0:00:03 --:--:--     0\r",
      "  0 8854k    0     0    0     0      0      0 --:--:--  0:00:04 --:--:--     0\r",
      "  1 8854k    1  164k    0     0  29657      0  0:05:05  0:00:05  0:05:00 95488\r",
      "  4 8854k    4  437k    0     0  65133      0  0:02:19  0:00:06  0:02:13  147k\r",
      "  7 8854k    7  671k    0     0  89303      0  0:01:41  0:00:07  0:01:34  177k\r",
      " 12 8854k   12 1110k    0     0   126k      0  0:01:09  0:00:08  0:01:01  228k\r",
      " 15 8854k   15 1366k    0     0   139k      0  0:01:03  0:00:09  0:00:54  275k\r",
      " 18 8854k   18 1670k    0     0   155k      0  0:00:57  0:00:10  0:00:47  297k\r",
      " 22 8854k   22 1990k    0     0   170k      0  0:00:52  0:00:11  0:00:41  322k\r",
      " 27 8854k   27 2470k    0     0   193k      0  0:00:45  0:00:12  0:00:33  356k\r",
      " 32 8854k   32 2902k    0     0   210k      0  0:00:42  0:00:13  0:00:29  356k\r",
      " 36 8854k   36 3222k    0     0   217k      0  0:00:40  0:00:14  0:00:26  368k\r",
      " 40 8854k   40 3622k    0     0   228k      0  0:00:38  0:00:15  0:00:23  384k\r",
      " 46 8854k   46 4134k    0     0   246k      0  0:00:35  0:00:16  0:00:19  422k\r",
      " 51 8854k   51 4582k    0     0   258k      0  0:00:34  0:00:17  0:00:17  421k\r",
      " 57 8854k   57 5062k    0     0   268k      0  0:00:32  0:00:18  0:00:14  428k\r",
      " 61 8854k   61 5414k    0     0   275k      0  0:00:32  0:00:19  0:00:13  450k\r",
      " 66 8854k   66 5846k    0     0   280k      0  0:00:31  0:00:20  0:00:11  442k\r",
      " 71 8854k   71 6310k    0     0   289k      0  0:00:30  0:00:21  0:00:09  431k\r",
      " 74 8854k   74 6630k    0     0   290k      0  0:00:30  0:00:22  0:00:08  401k\r",
      " 78 8854k   78 6950k    0     0   292k      0  0:00:30  0:00:23  0:00:07  385k\r",
      " 84 8854k   84 7446k    0     0   299k      0  0:00:29  0:00:24  0:00:05  393k\r",
      " 89 8854k   89 7942k    0     0   308k      0  0:00:28  0:00:25  0:00:03  425k\r",
      " 94 8854k   94 8406k    0     0   313k      0  0:00:28  0:00:26  0:00:02  416k\r",
      "100 8854k  100 8854k    0     0   320k      0  0:00:27  0:00:27 --:--:--  462k\n"
     ]
    }
   ],
   "source": [
    "%%bash\n",
    "curl -L https://github.com/Kinggerm/GetOrganelleGallery/raw/master/Test/reads/Arabidopsis_simulated.1.fq.gz -o Arabidopsis_simulated.1.fq.gz\n",
    "curl -L https://github.com/Kinggerm/GetOrganelleGallery/raw/master/Test/reads/Arabidopsis_simulated.2.fq.gz -o Arabidopsis_simulated.2.fq.gz"
   ]
  },
  {
   "cell_type": "markdown",
   "metadata": {},
   "source": [
    "### Conduct plastome assembly"
   ]
  },
  {
   "cell_type": "code",
   "execution_count": 7,
   "metadata": {
    "scrolled": false
   },
   "outputs": [
    {
     "name": "stdout",
     "output_type": "stream",
     "text": [
      "\n",
      "GetOrganelle v1.7.1\n",
      "\n",
      "get_organelle_from_reads.py assembles organelle genomes from genome skimming data.\n",
      "Find updates in https://github.com/Kinggerm/GetOrganelle and see README.md for more information.\n",
      "\n",
      "Python 3.7.3 (default, Mar 27 2019, 16:54:48)  [Clang 4.0.1 (tags/RELEASE_401/final)]\n",
      "PYTHON LIBS: GetOrganelleLib 1.7.1; numpy 1.18.1; sympy 1.6.1; scipy 1.4.1; psutil 5.7.0\n",
      "DEPENDENCIES: Bowtie2 2.3.5.1; SPAdes 3.12.0; Blast 2.9.0; Bandage 0.8.1\n",
      "SEED  DB: embplant_pt customized; embplant_mt customized\n",
      "LABEL DB: embplant_pt customized; embplant_mt customized\n",
      "WORKING DIR: /Users/JJJ/Documents/Codes/Python/Workshop/Rings\n",
      "/Users/JJJ/.pyenv/versions/anaconda3-5.3.1/bin/get_organelle_from_reads.py -1 Arabidopsis_simulated.1.fq.gz -2 Arabidopsis_simulated.2.fq.gz -t 1 -o Arabidopsis_simulated.plastome -F embplant_pt -R 10\n",
      "\n",
      "2020-07-25 23:25:03,186 - INFO: Pre-reading fastq ...\n",
      "2020-07-25 23:25:03,187 - INFO: Estimating reads to use ... (to use all reads, set '--reduce-reads-for-coverage inf')\n",
      "2020-07-25 23:25:03,757 - INFO: Estimating reads to use finished.\n",
      "2020-07-25 23:25:03,757 - INFO: Unzipping reads file: Arabidopsis_simulated.1.fq.gz (8796915 bytes)\n",
      "2020-07-25 23:25:03,933 - INFO: Unzipping reads file: Arabidopsis_simulated.2.fq.gz (9067061 bytes)\n",
      "2020-07-25 23:25:04,110 - INFO: Counting read qualities ...\n",
      "2020-07-25 23:25:04,241 - INFO: Identified quality encoding format = Illumina 1.8+\n",
      "2020-07-25 23:25:04,242 - INFO: Trimming bases with qualities (0.00%): 33..33  !\n",
      "2020-07-25 23:25:04,289 - INFO: Mean error rate = 0.0019\n",
      "2020-07-25 23:25:04,289 - INFO: Counting read lengths ...\n",
      "2020-07-25 23:25:04,477 - INFO: Mean = 150.0 bp, maximum = 150 bp.\n",
      "2020-07-25 23:25:04,477 - INFO: Reads used = 91563+91563\n",
      "2020-07-25 23:25:04,477 - INFO: Pre-reading fastq finished.\n",
      "\n",
      "2020-07-25 23:25:04,477 - INFO: Making seed reads ...\n",
      "2020-07-25 23:25:04,477 - INFO: Seed bowtie2 index existed!\n",
      "2020-07-25 23:25:04,477 - INFO: Mapping reads to seed bowtie2 index ...\n",
      "2020-07-25 23:25:13,735 - INFO: Mapping finished.\n",
      "2020-07-25 23:25:13,735 - INFO: Seed reads made: Arabidopsis_simulated.plastome/seed/embplant_pt.initial.fq (14144302 bytes)\n",
      "2020-07-25 23:25:13,736 - INFO: Making seed reads finished.\n",
      "\n",
      "2020-07-25 23:25:13,736 - INFO: Checking seed reads and parameters ...\n",
      "2020-07-25 23:25:13,736 - INFO: The automatically-estimated parameter(s) do not ensure the best choice(s).\n",
      "2020-07-25 23:25:13,736 - INFO: If the result graph is not a circular organelle genome, \n",
      "2020-07-25 23:25:13,736 - INFO:   you could adjust the value(s) of '-w'/'-R' for another new run.\n",
      "2020-07-25 23:25:16,909 - INFO: Pre-assembling mapped reads ...\n",
      "2020-07-25 23:25:24,080 - INFO: Pre-assembling mapped reads finished.\n",
      "2020-07-25 23:25:24,081 - INFO: Estimated embplant_pt-hitting base-coverage = 38.07\n",
      "2020-07-25 23:25:24,288 - INFO: Estimated word size(s): 86\n",
      "2020-07-25 23:25:24,289 - INFO: Setting '-w 86'\n",
      "2020-07-25 23:25:24,289 - INFO: Setting '--max-extending-len inf'\n",
      "2020-07-25 23:25:24,384 - INFO: Checking seed reads and parameters finished.\n",
      "\n",
      "2020-07-25 23:25:24,384 - INFO: Making read index ...\n",
      "2020-07-25 23:25:24,385 - INFO: 1 reads\b\b\b\b\b\b\b\b\b\b\b\b\b\b\b\b\b\b\b\b\b\b\b\b\b\b\b\b\b\b\b\b\b\b\b\b\b\b\b2020-07-25 23:25:24,716 - INFO: 54322 reads\b\b\b\b\b\b\b\b\b\b\b\b\b\b\b\b\b\b\b\b\b\b\b\b\b\b\b\b\b\b\b\b\b\b\b\b\b\b\b\b\b\b\b2020-07-25 23:25:24,993 - INFO: 108643 reads\b\b\b\b\b\b\b\b\b\b\b\b\b\b\b\b\b\b\b\b\b\b\b\b\b\b\b\b\b\b\b\b\b\b\b\b\b\b\b\b\b\b\b\b2020-07-25 23:25:25,323 - INFO: 162964 reads\b\b\b\b\b\b\b\b\b\b\b\b\b\b\b\b\b\b\b\b\b\b\b\b\b\b\b\b\b\b\b\b\b\b\b\b\b\b\b\b\b\b\b\b2020-07-25 23:25:25,575 - INFO: Mem 0.312 G, 178623 candidates in all 183126 reads\n",
      "2020-07-25 23:25:25,576 - INFO: Pre-grouping reads ...\n",
      "2020-07-25 23:25:25,576 - INFO: Setting '--pre-w 86'\n",
      "2020-07-25 23:25:25,591 - INFO: Mem 0.312 G, 4074/4074 used/duplicated\n",
      "2020-07-25 23:25:25,922 - INFO: Mem 0.325 G, 427 groups made.\n",
      "2020-07-25 23:25:25,930 - INFO: Making read index finished.\n",
      "\n",
      "2020-07-25 23:25:25,930 - INFO: Extending ...\n",
      "2020-07-25 23:25:25,930 - INFO: Adding initial words ...\n",
      "2020-07-25 23:25:27,838 - INFO: AW 1199618\n",
      "2020-07-25 23:25:27,894 - INFO: Round 1: 1/178623 AI 1 AW 1199618\b\b\b\b\b\b\b\b\b\b\b\b\b\b\b\b\b\b\b\b\b\b\b\b\b\b\b\b\b\b\b\b\b\b\b\b\b\b\b\b\b\b\b\b\b\b\b\b\b\b\b\b\b\b\b\b\b\b\b\b\b\b\b\b\b2020-07-25 23:25:28,638 - INFO: Round 1: 54322/178623 AI 21179 AW 1208398\b\b\b\b\b\b\b\b\b\b\b\b\b\b\b\b\b\b\b\b\b\b\b\b\b\b\b\b\b\b\b\b\b\b\b\b\b\b\b\b\b\b\b\b\b\b\b\b\b\b\b\b\b\b\b\b\b\b\b\b\b\b\b\b\b\b\b\b\b\b\b\b\b2020-07-25 23:25:29,333 - INFO: Round 1: 108643/178623 AI 39479 AW 1215590\b\b\b\b\b\b\b\b\b\b\b\b\b\b\b\b\b\b\b\b\b\b\b\b\b\b\b\b\b\b\b\b\b\b\b\b\b\b\b\b\b\b\b\b\b\b\b\b\b\b\b\b\b\b\b\b\b\b\b\b\b\b\b\b\b\b\b\b\b\b\b\b\b\b2020-07-25 23:25:29,744 - INFO: Round 1: 162964/178623 AI 40466 AW 1215886\b\b\b\b\b\b\b\b\b\b\b\b\b\b\b\b\b\b\b\b\b\b\b\b\b\b\b\b\b\b\b\b\b\b\b\b\b\b\b\b\b\b\b\b\b\b\b\b\b\b\b\b\b\b\b\b\b\b\b\b\b\b\b\b\b\b\b\b\b\b\b\b\b\b2020-07-25 23:25:29,858 - INFO: Round 1: 178623/178623 AI 40466 AW 1215886 Mem 0.394\n",
      "2020-07-25 23:25:29,858 - INFO: Round 2: 1/178623 AI 40466 AW 1215886\b\b\b\b\b\b\b\b\b\b\b\b\b\b\b\b\b\b\b\b\b\b\b\b\b\b\b\b\b\b\b\b\b\b\b\b\b\b\b\b\b\b\b\b\b\b\b\b\b\b\b\b\b\b\b\b\b\b\b\b\b\b\b\b\b\b\b\b\b2020-07-25 23:25:30,115 - INFO: Round 2: 54322/178623 AI 40485 AW 1216028\b\b\b\b\b\b\b\b\b\b\b\b\b\b\b\b\b\b\b\b\b\b\b\b\b\b\b\b\b\b\b\b\b\b\b\b\b\b\b\b\b\b\b\b\b\b\b\b\b\b\b\b\b\b\b\b\b\b\b\b\b\b\b\b\b\b\b\b\b\b\b\b\b2020-07-25 23:25:30,396 - INFO: Round 2: 108643/178623 AI 40485 AW 1216028\b\b\b\b\b\b\b\b\b\b\b\b\b\b\b\b\b\b\b\b\b\b\b\b\b\b\b\b\b\b\b\b\b\b\b\b\b\b\b\b\b\b\b\b\b\b\b\b\b\b\b\b\b\b\b\b\b\b\b\b\b\b\b\b\b\b\b\b\b\b\b\b\b\b2020-07-25 23:25:30,778 - INFO: Round 2: 162964/178623 AI 40485 AW 1216028\b\b\b\b\b\b\b\b\b\b\b\b\b\b\b\b\b\b\b\b\b\b\b\b\b\b\b\b\b\b\b\b\b\b\b\b\b\b\b\b\b\b\b\b\b\b\b\b\b\b\b\b\b\b\b\b\b\b\b\b\b\b\b\b\b\b\b\b\b\b\b\b\b\b2020-07-25 23:25:30,890 - INFO: Round 2: 178623/178623 AI 40485 AW 1216028 Mem 0.394\n",
      "2020-07-25 23:25:30,890 - INFO: Round 3: 1/178623 AI 40485 AW 1216028\b\b\b\b\b\b\b\b\b\b\b\b\b\b\b\b\b\b\b\b\b\b\b\b\b\b\b\b\b\b\b\b\b\b\b\b\b\b\b\b\b\b\b\b\b\b\b\b\b\b\b\b\b\b\b\b\b\b\b\b\b\b\b\b\b\b\b\b\b2020-07-25 23:25:31,147 - INFO: Round 3: 54322/178623 AI 40485 AW 1216028\b\b\b\b\b\b\b\b\b\b\b\b\b\b\b\b\b\b\b\b\b\b\b\b\b\b\b\b\b\b\b\b\b\b\b\b\b\b\b\b\b\b\b\b\b\b\b\b\b\b\b\b\b\b\b\b\b\b\b\b\b\b\b\b\b\b\b\b\b\b\b\b\b2020-07-25 23:25:31,421 - INFO: Round 3: 108643/178623 AI 40485 AW 1216028\b\b\b\b\b\b\b\b\b\b\b\b\b\b\b\b\b\b\b\b\b\b\b\b\b\b\b\b\b\b\b\b\b\b\b\b\b\b\b\b\b\b\b\b\b\b\b\b\b\b\b\b\b\b\b\b\b\b\b\b\b\b\b\b\b\b\b\b\b\b\b\b\b\b2020-07-25 23:25:31,802 - INFO: Round 3: 162964/178623 AI 40485 AW 1216028\b\b\b\b\b\b\b\b\b\b\b\b\b\b\b\b\b\b\b\b\b\b\b\b\b\b\b\b\b\b\b\b\b\b\b\b\b\b\b\b\b\b\b\b\b\b\b\b\b\b\b\b\b\b\b\b\b\b\b\b\b\b\b\b\b\b\b\b\b\b\b\b\b\b2020-07-25 23:25:31,913 - INFO: Round 3: 178623/178623 AI 40485 AW 1216028 Mem 0.394\n",
      "2020-07-25 23:25:31,913 - INFO: No more reads found and terminated ...\n",
      "2020-07-25 23:25:32,323 - INFO: Extending finished.\n",
      "\n",
      "2020-07-25 23:25:32,327 - INFO: Separating filtered fastq file ... \n",
      "2020-07-25 23:25:32,451 - INFO: Setting '-k 21,55,85,115'\n",
      "2020-07-25 23:25:32,452 - INFO: Assembling using SPAdes ...\n",
      "2020-07-25 23:25:32,469 - INFO: spades.py -t 1  -1 Arabidopsis_simulated.plastome/filtered_1_paired.fq -2 Arabidopsis_simulated.plastome/filtered_2_paired.fq --s1 Arabidopsis_simulated.plastome/filtered_1_unpaired.fq --s2 Arabidopsis_simulated.plastome/filtered_2_unpaired.fq -k 21,55,85,115 -o Arabidopsis_simulated.plastome/filtered_spades\n",
      "2020-07-25 23:25:55,754 - INFO: Insert size = 499.355, deviation = 9.90921, left quantile = 487, right quantile = 512\n",
      "2020-07-25 23:25:55,754 - INFO: Assembling finished.\n",
      "\n",
      "2020-07-25 23:25:58,110 - INFO: Slimming Arabidopsis_simulated.plastome/filtered_spades/K115/assembly_graph.fastg finished!\n",
      "2020-07-25 23:25:59,582 - INFO: Slimming Arabidopsis_simulated.plastome/filtered_spades/K85/assembly_graph.fastg finished!\n",
      "2020-07-25 23:26:01,014 - INFO: Slimming Arabidopsis_simulated.plastome/filtered_spades/K55/assembly_graph.fastg finished!\n",
      "2020-07-25 23:26:01,015 - INFO: Slimming assembly graphs finished.\n",
      "\n",
      "2020-07-25 23:26:01,015 - INFO: Extracting embplant_pt from the assemblies ...\n",
      "2020-07-25 23:26:01,015 - INFO: Disentangling Arabidopsis_simulated.plastome/filtered_spades/K115/assembly_graph.fastg.extend-embplant_pt-embplant_mt.fastg as a circular genome ... \n",
      "2020-07-25 23:26:01,291 - INFO: Vertex_3128 #copy = 1\n",
      "2020-07-25 23:26:01,291 - INFO: Vertex_3158 #copy = 2\n",
      "2020-07-25 23:26:01,291 - INFO: Vertex_3160 #copy = 1\n",
      "2020-07-25 23:26:01,291 - INFO: Average embplant_pt kmer-coverage = 10.2\n",
      "2020-07-25 23:26:01,291 - INFO: Average embplant_pt base-coverage = 42.4\n",
      "2020-07-25 23:26:01,291 - INFO: Writing output ...\n",
      "2020-07-25 23:26:01,343 - WARNING: More than one circular genome structure produced ...\n",
      "2020-07-25 23:26:01,343 - WARNING: Please check the final result to confirm whether they are  simply different in SSC direction (two flip-flop configurations)!\n",
      "2020-07-25 23:26:02,037 - INFO: Detecting large repeats (>1000 bp) in PATH1 with IRs detected, Total:LSC:SSC:Repeat(bp) = 154478:84170:17780:26264\n",
      "2020-07-25 23:26:02,037 - INFO: Writing PATH1 of complete embplant_pt to Arabidopsis_simulated.plastome/embplant_pt.K115.complete.graph1.1.path_sequence.fasta\n",
      "2020-07-25 23:26:02,040 - INFO: Writing PATH2 of complete embplant_pt to Arabidopsis_simulated.plastome/embplant_pt.K115.complete.graph1.2.path_sequence.fasta\n",
      "2020-07-25 23:26:02,040 - INFO: Writing GRAPH to Arabidopsis_simulated.plastome/embplant_pt.K115.complete.graph1.selected_graph.gfa\n",
      "2020-07-25 23:26:02,696 - INFO: Writing GRAPH image to Arabidopsis_simulated.plastome/embplant_pt.K115.complete.graph1.selected_graph.png\n",
      "2020-07-25 23:26:02,696 - INFO: Result status of embplant_pt: circular genome\n",
      "2020-07-25 23:26:02,715 - INFO: Please check the produced assembly image or manually visualize Arabidopsis_simulated.plastome/filtered_K115.assembly_graph.fastg.extend-embplant_pt-embplant_mt.fastg using Bandage to confirm the final result.\n",
      "2020-07-25 23:26:02,715 - INFO: Writing output finished.\n",
      "2020-07-25 23:26:02,716 - INFO: Extracting embplant_pt from the assemblies finished.\n",
      "\n",
      "\n",
      "Total cost 64.41 s\n",
      "Thank you!\n"
     ]
    }
   ],
   "source": [
    "%%bash\n",
    "get_organelle_from_reads.py -1 Arabidopsis_simulated.1.fq.gz -2 Arabidopsis_simulated.2.fq.gz -t 1 -o Arabidopsis_simulated.plastome -F embplant_pt -R 10"
   ]
  },
  {
   "attachments": {},
   "cell_type": "markdown",
   "metadata": {},
   "source": [
    "### Running log\n",
    "\n",
    "More info could be found via https://github.com/Kinggerm/GetOrganelle/wiki/Example-1\n",
    "![More info could be found via https://github.com/Kinggerm/GetOrganelle/wiki/](resources/pics/2.online.running.log.png)"
   ]
  },
  {
   "cell_type": "markdown",
   "metadata": {},
   "source": [
    "### Brief description of the used options\n",
    "\n",
    "Flag | Value | Illustration\n",
    " - | - | -\n",
    "-1 | Arabidopsis_simulated.1.fq.gz | Input file with the forward paired-end reads (*.fq/.gz/.tar.gz)\n",
    "-2 | Arabidopsis_simulated.2.fq.gz | Input file with the reverse paired-end reads (*.fq/.gz/.tar.gz)\n",
    "-t | 1 | Maximum threads to use. Default: 1\n",
    "-o |Arabidopsis_simulated.plastome | Output directory\n",
    "-F | embplant_pt | Target organelle genome type(s)\n",
    "-R | 10 | Maximum extension rounds\n",
    "\n",
    "#### Find more\n",
    "for frequently used options\n",
    "\n",
    "    get_organelle_from_reads.py -h\n",
    "\n",
    "for all options\n",
    "\n",
    "    get_organelle_from_reads.py --help"
   ]
  },
  {
   "cell_type": "markdown",
   "metadata": {},
   "source": [
    "### Output files\n",
    "\n",
    "You will see the following files in the output directory `Arabidopsis_simulated.plastome`. "
   ]
  },
  {
   "cell_type": "code",
   "execution_count": 16,
   "metadata": {},
   "outputs": [
    {
     "name": "stdout",
     "output_type": "stream",
     "text": [
      "total 31224\n",
      "drwxr-xr-x  16 JJJ  staff   512B Jul 25 23:31 .\n",
      "drwxr-xr-x  12 JJJ  staff   384B Jul 26 00:01 ..\n",
      "-rw-r--r--   1 JJJ  staff   151K Jul 25 23:31 embplant_pt.K115.complete.graph1.1.path_sequence.fasta\n",
      "-rw-r--r--   1 JJJ  staff   151K Jul 25 23:31 embplant_pt.K115.complete.graph1.2.path_sequence.fasta\n",
      "-rw-r--r--   1 JJJ  staff   126K Jul 25 23:31 embplant_pt.K115.complete.graph1.selected_graph.gfa\n",
      "-rw-r--r--   1 JJJ  staff   114K Jul 25 23:37 embplant_pt.K115.complete.graph1.selected_graph.png\n",
      "-rw-r--r--   1 JJJ  staff   6.9M Jul 25 23:30 filtered_1_paired.fq\n",
      "-rw-r--r--   1 JJJ  staff    25K Jul 25 23:30 filtered_1_unpaired.fq\n",
      "-rw-r--r--   1 JJJ  staff   6.9M Jul 25 23:30 filtered_2_paired.fq\n",
      "-rw-r--r--   1 JJJ  staff    19K Jul 25 23:30 filtered_2_unpaired.fq\n",
      "-rw-r--r--   1 JJJ  staff   256K Jul 25 23:31 filtered_K115.assembly_graph.fastg\n",
      "-rw-r--r--   1 JJJ  staff   4.3K Jul 25 23:31 filtered_K115.assembly_graph.fastg.extend-embplant_pt-embplant_mt.csv\n",
      "-rw-r--r--   1 JJJ  staff   255K Jul 25 23:31 filtered_K115.assembly_graph.fastg.extend-embplant_pt-embplant_mt.fastg\n",
      "drwxr-xr-x  20 JJJ  staff   640B Jul 25 23:31 filtered_spades\n",
      "-rw-r--r--@  1 JJJ  staff   185K Jul 25 23:31 get_org.log.txt\n",
      "drwxr-xr-x   4 JJJ  staff   128B Jul 25 23:30 seed\n"
     ]
    }
   ],
   "source": [
    "%%bash\n",
    "ls -lah Arabidopsis_simulated.plastome"
   ]
  },
  {
   "cell_type": "markdown",
   "metadata": {},
   "source": [
    "In samples with IRs, two isomeric plastome sequences will be generated, differing in the orientation of SSC. These two isomeric configurations both exist in the plant ([Palmer 1983](https://doi.org/10.1038%2F301092a0); [JF Walker et al. 2015](https://bsapubs.onlinelibrary.wiley.com/doi/full/10.3732/ajb.1500299); [Wang & Lanfear 2020](https://doi.org/10.1093/gbe/evz256)) and are both usable. \n",
    "In practice, people usually arbitrarily use the one with a commonly-used order (e.g. [_Arabidopsis thaliana_ NC_000932.1](https://www.ncbi.nlm.nih.gov/nuccore/NC_000932.1/)). "
   ]
  },
  {
   "cell_type": "markdown",
   "metadata": {},
   "source": [
    "The final assembly graph will be visualized as png format if `Bandage` was added to the path (or use following command to do so)."
   ]
  },
  {
   "cell_type": "code",
   "execution_count": 15,
   "metadata": {},
   "outputs": [],
   "source": [
    "%%bash\n",
    "# Bandage image Arabidopsis_simulated.plastome/embplant_pt.K115.complete.graph1.selected_graph.gfa Arabidopsis_simulated.plastome/embplant_pt.K115.complete.graph1.selected_graph.png --names --depth --lengths --outline 0 --colour depth --depcollow \"#D8D8D8\" --depcolhi \"#C60E29\" --depvallow 10.0427 --depvalhi 20.583693 --fontsize 6 --iter 4"
   ]
  },
  {
   "cell_type": "markdown",
   "metadata": {},
   "source": [
    "![](resources/pics/1.embplant_pt.K115.complete.graph1.selected_graph.png)"
   ]
  },
  {
   "cell_type": "code",
   "execution_count": null,
   "metadata": {},
   "outputs": [],
   "source": []
  }
 ],
 "metadata": {
  "kernelspec": {
   "display_name": "Python 3",
   "language": "python",
   "name": "python3"
  },
  "language_info": {
   "codemirror_mode": {
    "name": "ipython",
    "version": 3
   },
   "file_extension": ".py",
   "mimetype": "text/x-python",
   "name": "python",
   "nbconvert_exporter": "python",
   "pygments_lexer": "ipython3",
   "version": "3.7.3"
  }
 },
 "nbformat": 4,
 "nbformat_minor": 1
}
